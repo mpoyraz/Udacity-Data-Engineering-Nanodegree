{
 "cells": [
  {
   "cell_type": "code",
   "execution_count": 1,
   "metadata": {
    "editable": true
   },
   "outputs": [],
   "source": [
    "import os\n",
    "import configparser\n",
    "import time\n",
    "import boto3"
   ]
  },
  {
   "cell_type": "code",
   "execution_count": 2,
   "metadata": {
    "editable": true
   },
   "outputs": [
    {
     "data": {
      "text/plain": [
       "['dl.cfg']"
      ]
     },
     "execution_count": 2,
     "metadata": {},
     "output_type": "execute_result"
    }
   ],
   "source": [
    "# Read the configuration\n",
    "config = configparser.ConfigParser()\n",
    "config.read('dl.cfg')"
   ]
  },
  {
   "cell_type": "code",
   "execution_count": 3,
   "metadata": {
    "editable": true
   },
   "outputs": [],
   "source": [
    "os.environ['AWS_ACCESS_KEY_ID']=config['AWS']['AWS_ACCESS_KEY_ID']\n",
    "os.environ['AWS_SECRET_ACCESS_KEY']=config['AWS']['AWS_SECRET_ACCESS_KEY']"
   ]
  },
  {
   "cell_type": "code",
   "execution_count": 4,
   "metadata": {
    "editable": true
   },
   "outputs": [],
   "source": [
    "# S3 resource to access to buckets\n",
    "s3 = boto3.resource('s3',\n",
    "                    region_name = config['AWS']['REGION'],\n",
    "                    aws_access_key_id = os.environ[\"AWS_ACCESS_KEY_ID\"],\n",
    "                    aws_secret_access_key = os.environ[\"AWS_SECRET_ACCESS_KEY\"]\n",
    "                   )"
   ]
  },
  {
   "cell_type": "code",
   "execution_count": 5,
   "metadata": {
    "editable": true
   },
   "outputs": [],
   "source": [
    "# A simple function to explore given S3 bucket and key\n",
    "def explore_data_on_S3(bucket, key, extension = None):\n",
    "    num_files = 0\n",
    "    total_size = 0\n",
    "    time_start = time.time()\n",
    "    # iterate over\n",
    "    objs = s3.Bucket(bucket).objects.filter(Prefix = key)\n",
    "    for obj in objs:\n",
    "        if extension is None:\n",
    "            num_files +=1\n",
    "            total_size += obj.size\n",
    "        elif obj.key.endswith(extension):\n",
    "            num_files +=1\n",
    "            total_size += obj.size\n",
    "    # Report the details about the data\n",
    "    total_size /= (1024*1024) # bytes to MB\n",
    "    time_pass = time.time() - time_start\n",
    "    print(\"Explored {}/{} on S3\".format(bucket,key))\n",
    "    print(\"Total number of files: {}\".format(num_files))\n",
    "    print(\"Total size of files: {:.2f} MB\".format(total_size))\n",
    "    print(\"Search duration: {:.2f} seconds\".format(time_pass))"
   ]
  },
  {
   "cell_type": "code",
   "execution_count": 6,
   "metadata": {
    "editable": true
   },
   "outputs": [
    {
     "name": "stdout",
     "output_type": "stream",
     "text": [
      "Explored udacity-dend/log_data on S3\n",
      "Total number of files: 30\n",
      "Total size of files: 3.58 MB\n",
      "Search duration: 0.35 seconds\n"
     ]
    }
   ],
   "source": [
    "# Explore the user logs data\n",
    "explore_data_on_S3(\"udacity-dend\", \"log_data\", \"json\")"
   ]
  },
  {
   "cell_type": "code",
   "execution_count": 7,
   "metadata": {
    "editable": true
   },
   "outputs": [
    {
     "name": "stdout",
     "output_type": "stream",
     "text": [
      "Explored udacity-dend/song_data on S3\n",
      "Total number of files: 14896\n",
      "Total size of files: 3.54 MB\n",
      "Search duration: 10.46 seconds\n"
     ]
    }
   ],
   "source": [
    "# Explore the songs data\n",
    "explore_data_on_S3(\"udacity-dend\", \"song_data\", \"json\")"
   ]
  },
  {
   "cell_type": "code",
   "execution_count": null,
   "metadata": {
    "editable": true
   },
   "outputs": [],
   "source": []
  }
 ],
 "metadata": {
  "kernelspec": {
   "display_name": "Python 3",
   "language": "python",
   "name": "python3"
  },
  "language_info": {
   "codemirror_mode": {
    "name": "ipython",
    "version": 3
   },
   "file_extension": ".py",
   "mimetype": "text/x-python",
   "name": "python",
   "nbconvert_exporter": "python",
   "pygments_lexer": "ipython3",
   "version": "3.6.3"
  }
 },
 "nbformat": 4,
 "nbformat_minor": 4
}
