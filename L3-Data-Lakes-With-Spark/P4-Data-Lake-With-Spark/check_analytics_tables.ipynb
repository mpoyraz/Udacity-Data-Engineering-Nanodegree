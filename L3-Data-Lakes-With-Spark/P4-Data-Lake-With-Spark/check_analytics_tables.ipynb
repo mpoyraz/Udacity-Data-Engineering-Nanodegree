{
 "cells": [
  {
   "cell_type": "code",
   "execution_count": 1,
   "metadata": {
    "editable": true
   },
   "outputs": [],
   "source": [
    "import argparse\n",
    "import configparser\n",
    "import os\n",
    "from datetime import datetime\n",
    "from pyspark import StorageLevel\n",
    "from pyspark.sql import SparkSession, Window\n",
    "from pyspark.sql.functions import udf, col, from_unixtime, row_number\n",
    "from pyspark.sql.functions import year, month, dayofmonth, hour, weekofyear, dayofweek\n",
    "from pyspark.sql.types import StructType, StructField, StringType, LongType, DoubleType"
   ]
  },
  {
   "cell_type": "code",
   "execution_count": 2,
   "metadata": {
    "editable": true
   },
   "outputs": [],
   "source": [
    "# S3 bucket name\n",
    "bucket_name = \"sparkify-analytics-2020\"\n",
    "bucket_path = \"s3a://{}/\".format(bucket_name)"
   ]
  },
  {
   "cell_type": "code",
   "execution_count": 3,
   "metadata": {
    "editable": true
   },
   "outputs": [],
   "source": [
    "# AWS credentials\n",
    "config = configparser.ConfigParser()\n",
    "config.read('dl.cfg')\n",
    "os.environ['AWS_ACCESS_KEY_ID']=config['AWS']['AWS_ACCESS_KEY_ID']\n",
    "os.environ['AWS_SECRET_ACCESS_KEY']=config['AWS']['AWS_SECRET_ACCESS_KEY']"
   ]
  },
  {
   "cell_type": "code",
   "execution_count": 4,
   "metadata": {
    "editable": true
   },
   "outputs": [
    {
     "data": {
      "text/html": [
       "\n",
       "            <div>\n",
       "                <p><b>SparkSession - in-memory</b></p>\n",
       "                \n",
       "        <div>\n",
       "            <p><b>SparkContext</b></p>\n",
       "\n",
       "            <p><a href=\"http://95a6b0d7768e:4040\">Spark UI</a></p>\n",
       "\n",
       "            <dl>\n",
       "              <dt>Version</dt>\n",
       "                <dd><code>v2.4.3</code></dd>\n",
       "              <dt>Master</dt>\n",
       "                <dd><code>local[*]</code></dd>\n",
       "              <dt>AppName</dt>\n",
       "                <dd><code>ETL Sparkify</code></dd>\n",
       "            </dl>\n",
       "        </div>\n",
       "        \n",
       "            </div>\n",
       "        "
      ],
      "text/plain": [
       "<pyspark.sql.session.SparkSession at 0x7f73e83a4588>"
      ]
     },
     "execution_count": 4,
     "metadata": {},
     "output_type": "execute_result"
    }
   ],
   "source": [
    "# Spark session\n",
    "spark = SparkSession \\\n",
    "        .builder \\\n",
    "        .appName(\"ETL Sparkify\") \\\n",
    "        .config(\"spark.jars.packages\", \"org.apache.hadoop:hadoop-aws:2.7.0\") \\\n",
    "        .getOrCreate()\n",
    "spark"
   ]
  },
  {
   "cell_type": "code",
   "execution_count": 5,
   "metadata": {
    "editable": true
   },
   "outputs": [
    {
     "data": {
      "text/plain": [
       "DataFrame[start_time: bigint, user_id: string, level: string, song_id: string, artist_id: string, session_id: bigint, location: string, user_agent: string, songplay_id: int, year: int, month: int]"
      ]
     },
     "execution_count": 5,
     "metadata": {},
     "output_type": "execute_result"
    }
   ],
   "source": [
    "# Read songplays table\n",
    "songplays_path = os.path.join(bucket_path, 'songplays')\n",
    "songplates_table = spark.read.parquet(songplays_path)\n",
    "songplates_table.persist(StorageLevel.MEMORY_AND_DISK)"
   ]
  },
  {
   "cell_type": "code",
   "execution_count": 6,
   "metadata": {
    "editable": true
   },
   "outputs": [
    {
     "name": "stdout",
     "output_type": "stream",
     "text": [
      "root\n",
      " |-- start_time: long (nullable = true)\n",
      " |-- user_id: string (nullable = true)\n",
      " |-- level: string (nullable = true)\n",
      " |-- song_id: string (nullable = true)\n",
      " |-- artist_id: string (nullable = true)\n",
      " |-- session_id: long (nullable = true)\n",
      " |-- location: string (nullable = true)\n",
      " |-- user_agent: string (nullable = true)\n",
      " |-- songplay_id: integer (nullable = true)\n",
      " |-- year: integer (nullable = true)\n",
      " |-- month: integer (nullable = true)\n",
      "\n",
      "+-------------+-------+-----+------------------+------------------+----------+--------------------+--------------------+-----------+----+-----+\n",
      "|   start_time|user_id|level|           song_id|         artist_id|session_id|            location|          user_agent|songplay_id|year|month|\n",
      "+-------------+-------+-----+------------------+------------------+----------+--------------------+--------------------+-----------+----+-----+\n",
      "|1543522901796|     49| paid|SOABIXP12A8C135F75|AR15DJQ1187FB5910C|      1041|San Francisco-Oak...|Mozilla/5.0 (Wind...|          1|2018|   11|\n",
      "|1542307562796|     42| paid|SOACGMN12A8C13AD65|ARF2EHS1187B994F4E|       404|New York-Newark-J...|\"Mozilla/5.0 (Win...|          2|2018|   11|\n",
      "|1542176381796|     80| paid|SOACRBY12AB017C757|ARVGCRM11F50C496F4|       548|Portland-South Po...|\"Mozilla/5.0 (Mac...|          3|2018|   11|\n",
      "|1542747053796|     49| paid|SOACXKV12AB0189328|ARICCZI1187B9AEBB3|       758|San Francisco-Oak...|Mozilla/5.0 (Wind...|          4|2018|   11|\n",
      "|1543033890796|     29| paid|SOAECHX12A6D4FC3D9|ARX2DLI1187FB4DD03|       709|Atlanta-Sandy Spr...|\"Mozilla/5.0 (Mac...|          5|2018|   11|\n",
      "+-------------+-------+-----+------------------+------------------+----------+--------------------+--------------------+-----------+----+-----+\n",
      "only showing top 5 rows\n",
      "\n",
      "Songplays table, number of rows: 791\n"
     ]
    }
   ],
   "source": [
    "# Describe songplays table\n",
    "songplates_table.printSchema()\n",
    "songplates_table.show(5)\n",
    "print(\"Songplays table, number of rows: {}\".format(songplates_table.count()))"
   ]
  },
  {
   "cell_type": "code",
   "execution_count": null,
   "metadata": {
    "editable": true
   },
   "outputs": [],
   "source": []
  }
 ],
 "metadata": {
  "kernelspec": {
   "display_name": "Python 3",
   "language": "python",
   "name": "python3"
  },
  "language_info": {
   "codemirror_mode": {
    "name": "ipython",
    "version": 3
   },
   "file_extension": ".py",
   "mimetype": "text/x-python",
   "name": "python",
   "nbconvert_exporter": "python",
   "pygments_lexer": "ipython3",
   "version": "3.6.3"
  }
 },
 "nbformat": 4,
 "nbformat_minor": 4
}
